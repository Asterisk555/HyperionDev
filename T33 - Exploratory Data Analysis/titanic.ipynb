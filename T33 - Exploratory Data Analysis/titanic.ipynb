{
 "cells": [
  {
   "attachments": {},
   "cell_type": "markdown",
   "metadata": {},
   "source": [
    "## In-depth EDA on the Titanic dataset\n",
    "Including descriptions of the exploratory data analysis (EDA) and appropriate visualisations.\n",
    "Where pclass refers to passenger class (1st, 2nd, 3rd), and is a proxy for socio-economic class. Age is in years, and some infants had fractional values. Fare is in Pre-1970 British Pounds."
   ]
  },
  {
   "cell_type": "code",
   "execution_count": 11,
   "metadata": {},
   "outputs": [],
   "source": [
    "import pandas as pd"
   ]
  },
  {
   "attachments": {},
   "cell_type": "markdown",
   "metadata": {},
   "source": [
    "What is the most important factor in determining survival of the Titanic incident?\n",
    "\n",
    "Sex (male) has the greatest negative correlation with survival, and the greatest difference from zero overall."
   ]
  },
  {
   "cell_type": "code",
   "execution_count": 12,
   "metadata": {},
   "outputs": [
    {
     "name": "stdout",
     "output_type": "stream",
     "text": [
      "Survived       1.000000\n",
      "Fare           0.257307\n",
      "Parch          0.081629\n",
      "PassengerId   -0.005007\n",
      "SibSp         -0.035322\n",
      "Age           -0.077221\n",
      "Pclass        -0.338481\n",
      "Name: Survived, dtype: float64\n",
      "Correlation between sex (male) and survival rate: -0.5433513806577546\n"
     ]
    },
    {
     "name": "stderr",
     "output_type": "stream",
     "text": [
      "C:\\Users\\CA\\AppData\\Local\\Temp\\ipykernel_14384\\3672483651.py:5: FutureWarning: The default value of numeric_only in DataFrame.corr is deprecated. In a future version, it will default to False. Select only valid columns or specify the value of numeric_only to silence this warning.\n",
      "  correlation = df.corr()['Survived']\n"
     ]
    }
   ],
   "source": [
    "# Load the data into a pandas DataFrame\n",
    "df = pd.read_csv('Titanic.csv')\n",
    "\n",
    "# Calculate the correlation between the variables and survival rate\n",
    "correlation = df.corr()['Survived']\n",
    "\n",
    "# Sort the correlations in descending order\n",
    "correlation = correlation.sort_values(ascending=False)\n",
    "\n",
    "# Print the sorted correlations\n",
    "print(correlation)\n",
    "\n",
    "# Create a new binary variable for Sex\n",
    "df['Sex'] = df['Sex'].apply(lambda x: 1 if x == 'male' else 0)\n",
    "\n",
    "# Calculate the correlation between Sex and survival rate\n",
    "Sex_correlation = df['Sex'].corr(df['Survived'])\n",
    "\n",
    "# Print the correlation\n",
    "print('Correlation between sex (male) and survival rate:', Sex_correlation)\n"
   ]
  },
  {
   "attachments": {},
   "cell_type": "markdown",
   "metadata": {},
   "source": [
    "In the movie, the upper-class passengers were given preference on lifeboats. Does this show in the data?\n",
    "\n",
    "Highly likely, but not fully confirmed. It would be impossible to survive without being in a lifeboats, and passenger class has the strongest relationship to survival compared to other data, but it is not specifically indicated how many people came to be on these lifeboats. While unlikely, this may be an alternate dimension where crew members didn't give preference to high class passengers, but high class passengers ended up taking more lifeboats through other means."
   ]
  },
  {
   "attachments": {},
   "cell_type": "markdown",
   "metadata": {},
   "source": [
    "“Women and children first”. Was this the case?\n",
    "\n",
    "Children appear to have been let on first. A negative correlation coefficient between age and survival rate (-0.077221) suggests that as age increases, survival rate decreases. This could imply that younger people were more likely to survive, and therefore that they were offered spots on lifeboats first. But to be a \"child\" there would be an age cut-off, and I want to see if children overall had a preference rather than, for example, young adults surviving better because they're healthier. A law passed in 1855 that changed age of consent from 13 to 16, and the titanic sank in 1912, so I'm going to infer that anyone below 16 would have qualified as a child. Having created an age group for under 16s I found a positive correlation of 0.136106, which suggests that people under the age of 16 have a higher survival rate. It is worth noting, however, of 892 entries, 176 are missing data for age.\n",
    "\n",
    "Women appear to have been let on first, since there is a high negative correlation between being male and surviving."
   ]
  },
  {
   "cell_type": "code",
   "execution_count": 13,
   "metadata": {},
   "outputs": [
    {
     "name": "stdout",
     "output_type": "stream",
     "text": [
      "Correlation between age group and survival rate: 0.13610698067319452\n"
     ]
    }
   ],
   "source": [
    "# Create a new binary variable for age group\n",
    "df['age_group'] = df['Age'].apply(lambda x: 1 if x < 16 else 0)\n",
    "\n",
    "# Calculate the correlation between age group and survival rate\n",
    "correlation = df['age_group'].corr(df['Survived'])\n",
    "\n",
    "# Print the correlation\n",
    "print('Correlation between age group and survival rate:', correlation)\n"
   ]
  },
  {
   "attachments": {},
   "cell_type": "markdown",
   "metadata": {},
   "source": [
    "Add one other observation that you have noted in the dataset.\n",
    "\n",
    "People who were in the same passenger class did not pay the same fare."
   ]
  }
 ],
 "metadata": {
  "kernelspec": {
   "display_name": "Python 3",
   "language": "python",
   "name": "python3"
  },
  "language_info": {
   "codemirror_mode": {
    "name": "ipython",
    "version": 3
   },
   "file_extension": ".py",
   "mimetype": "text/x-python",
   "name": "python",
   "nbconvert_exporter": "python",
   "pygments_lexer": "ipython3",
   "version": "3.11.0"
  },
  "orig_nbformat": 4,
  "vscode": {
   "interpreter": {
    "hash": "ae2e07544224f960323cf2e47a09eebb6aec958e89d6a0d4582c9468e124cee4"
   }
  }
 },
 "nbformat": 4,
 "nbformat_minor": 2
}
